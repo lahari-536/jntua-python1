{
  "nbformat": 4,
  "nbformat_minor": 0,
  "metadata": {
    "colab": {
      "name": "30-1-2020",
      "provenance": [],
      "authorship_tag": "ABX9TyMvwtSnOM0P6eJ2/pJUpwjQ",
      "include_colab_link": true
    },
    "kernelspec": {
      "name": "python3",
      "display_name": "Python 3"
    }
  },
  "cells": [
    {
      "cell_type": "markdown",
      "metadata": {
        "id": "view-in-github",
        "colab_type": "text"
      },
      "source": [
        "<a href=\"https://colab.research.google.com/github/lahari-536/jntua-python1/blob/master/30_1_2020.ipynb\" target=\"_parent\"><img src=\"https://colab.research.google.com/assets/colab-badge.svg\" alt=\"Open In Colab\"/></a>"
      ]
    },
    {
      "cell_type": "code",
      "metadata": {
        "id": "clbpIJLM9PlM",
        "colab_type": "code",
        "colab": {
          "base_uri": "https://localhost:8080/",
          "height": 51
        },
        "outputId": "397698ec-bc20-4840-eb91-cc8e40096dc0"
      },
      "source": [
        " print(\"hello\")       \n",
        " print('hello')   "
      ],
      "execution_count": 2,
      "outputs": [
        {
          "output_type": "stream",
          "text": [
            "hello\n",
            "hello\n"
          ],
          "name": "stdout"
        }
      ]
    },
    {
      "cell_type": "markdown",
      "metadata": {
        "id": "fazoFmwr-2hA",
        "colab_type": "text"
      },
      "source": [
        "#Markdown\n",
        "## Markdown\n",
        "### Markdown"
      ]
    },
    {
      "cell_type": "code",
      "metadata": {
        "id": "QFXxw9Mv_EhN",
        "colab_type": "code",
        "colab": {}
      },
      "source": [
        ""
      ],
      "execution_count": 0,
      "outputs": []
    },
    {
      "cell_type": "markdown",
      "metadata": {
        "id": "0z8CQNzz_uR4",
        "colab_type": "text"
      },
      "source": [
        "**likki**\n",
        "*likki*\n",
        "***likki*** "
      ]
    },
    {
      "cell_type": "markdown",
      "metadata": {
        "id": "08mWnSi3ArGV",
        "colab_type": "text"
      },
      "source": [
        "*** Adding links to markdown***\n",
        "\n",
        "[site](https://www.jntua.ac.in)\n"
      ]
    },
    {
      "cell_type": "markdown",
      "metadata": {
        "id": "7aJskOpRC8Cm",
        "colab_type": "text"
      },
      "source": [
        "## insert image##\n",
        "![text](https://encrypted-tbn0.gstatic.com/images?q=tbn%3AANd9GcR1yzDp_lIdF3T4gnzHb9R8_o5InqGe6CdbM5a7ez1XgOEwpxll)\n",
        "\n",
        "\n"
      ]
    },
    {
      "cell_type": "code",
      "metadata": {
        "id": "H12lR7m6D68L",
        "colab_type": "code",
        "colab": {
          "base_uri": "https://localhost:8080/",
          "height": 34
        },
        "outputId": "b67b2191-f19e-4f32-cbc2-05050166c4fb"
      },
      "source": [
        "print(\"Hello world\")\n"
      ],
      "execution_count": 3,
      "outputs": [
        {
          "output_type": "stream",
          "text": [
            "Hello world\n"
          ],
          "name": "stdout"
        }
      ]
    },
    {
      "cell_type": "code",
      "metadata": {
        "id": "-ICZL6KbEg_A",
        "colab_type": "code",
        "colab": {
          "base_uri": "https://localhost:8080/",
          "height": 34
        },
        "outputId": "7b436744-ec18-4b6d-e905-2c5b11c10a8a"
      },
      "source": [
        "print(\"hello, jntua\",\"|||\",\"chemical\",\"|||\",\"cse\",\"|||\",\"Mca\")\n"
      ],
      "execution_count": 4,
      "outputs": [
        {
          "output_type": "stream",
          "text": [
            "hello, jntua ||| chemical ||| cse ||| Mca\n"
          ],
          "name": "stdout"
        }
      ]
    },
    {
      "cell_type": "markdown",
      "metadata": {
        "id": "nHxSdrB8KBDF",
        "colab_type": "text"
      },
      "source": [
        "#Assignment"
      ]
    },
    {
      "cell_type": "code",
      "metadata": {
        "id": "qwAJK48WKHJK",
        "colab_type": "code",
        "colab": {
          "base_uri": "https://localhost:8080/",
          "height": 68
        },
        "outputId": "8683f0dc-9cfc-47c0-fab9-8fcf3ca4643f"
      },
      "source": [
        "n1 = 100 #single var assignment\n",
        "print(n1)\n",
        "a=b=c=10 #multiple var assign\n",
        "print(a,b,c)\n",
        "a1,b1,c1=100,200,300 #multiple var assign with diff values\n",
        "print(a1,b1,c1)\n"
      ],
      "execution_count": 8,
      "outputs": [
        {
          "output_type": "stream",
          "text": [
            "100\n",
            "10 10 10\n",
            "100 200 300\n"
          ],
          "name": "stdout"
        }
      ]
    },
    {
      "cell_type": "markdown",
      "metadata": {
        "id": "9Kd7kttRLyMx",
        "colab_type": "text"
      },
      "source": [
        "#Datatype and conversions\n",
        "\n",
        "*   INT\n",
        "*   FLOAT\n",
        "*   STRING\n",
        "\n",
        "\n",
        "\n",
        "\n",
        "\n",
        "\n",
        "\n",
        "\n",
        "\n"
      ]
    },
    {
      "cell_type": "code",
      "metadata": {
        "id": "HW9nH96eL2W7",
        "colab_type": "code",
        "colab": {
          "base_uri": "https://localhost:8080/",
          "height": 34
        },
        "outputId": "891ae6c6-9a73-47dc-ef24-293678a0fd56"
      },
      "source": [
        "s1=10.2\n",
        "s2=\"python\"\n",
        "a=100\n",
        "print(type(a),type(s1),type(s2))"
      ],
      "execution_count": 9,
      "outputs": [
        {
          "output_type": "stream",
          "text": [
            "<class 'int'> <class 'float'> <class 'str'>\n"
          ],
          "name": "stdout"
        }
      ]
    },
    {
      "cell_type": "code",
      "metadata": {
        "id": "2ghjWS2HM_bQ",
        "colab_type": "code",
        "colab": {
          "base_uri": "https://localhost:8080/",
          "height": 265
        },
        "outputId": "f5d08490-d4db-4f5d-e32a-8f44aed4312f"
      },
      "source": [
        "i=100\n",
        "print(type(i))\n",
        "s1=str(i)\n",
        "print(type(s1),s1)\n",
        "f1=float(i)\n",
        "print(type(f1))\n",
        "print(f1)\n",
        "print(len(i))"
      ],
      "execution_count": 13,
      "outputs": [
        {
          "output_type": "stream",
          "text": [
            "<class 'int'>\n",
            "<class 'str'> 100\n",
            "<class 'float'>\n",
            "100.0\n"
          ],
          "name": "stdout"
        },
        {
          "output_type": "error",
          "ename": "TypeError",
          "evalue": "ignored",
          "traceback": [
            "\u001b[0;31m---------------------------------------------------------------------------\u001b[0m",
            "\u001b[0;31mTypeError\u001b[0m                                 Traceback (most recent call last)",
            "\u001b[0;32m<ipython-input-13-0acfb265eea9>\u001b[0m in \u001b[0;36m<module>\u001b[0;34m()\u001b[0m\n\u001b[1;32m      6\u001b[0m \u001b[0mprint\u001b[0m\u001b[0;34m(\u001b[0m\u001b[0mtype\u001b[0m\u001b[0;34m(\u001b[0m\u001b[0mf1\u001b[0m\u001b[0;34m)\u001b[0m\u001b[0;34m)\u001b[0m\u001b[0;34m\u001b[0m\u001b[0;34m\u001b[0m\u001b[0m\n\u001b[1;32m      7\u001b[0m \u001b[0mprint\u001b[0m\u001b[0;34m(\u001b[0m\u001b[0mf1\u001b[0m\u001b[0;34m)\u001b[0m\u001b[0;34m\u001b[0m\u001b[0;34m\u001b[0m\u001b[0m\n\u001b[0;32m----> 8\u001b[0;31m \u001b[0mprint\u001b[0m\u001b[0;34m(\u001b[0m\u001b[0mlen\u001b[0m\u001b[0;34m(\u001b[0m\u001b[0mi\u001b[0m\u001b[0;34m)\u001b[0m\u001b[0;34m)\u001b[0m\u001b[0;34m\u001b[0m\u001b[0;34m\u001b[0m\u001b[0m\n\u001b[0m",
            "\u001b[0;31mTypeError\u001b[0m: object of type 'int' has no len()"
          ]
        }
      ]
    },
    {
      "cell_type": "code",
      "metadata": {
        "id": "6La9Ob2dOFFp",
        "colab_type": "code",
        "colab": {
          "base_uri": "https://localhost:8080/",
          "height": 34
        },
        "outputId": "c608319d-0e15-4a5b-a7ed-1acfd60568ed"
      },
      "source": [
        "#length\n",
        "a=12345\n",
        "print(len(str(a)))"
      ],
      "execution_count": 14,
      "outputs": [
        {
          "output_type": "stream",
          "text": [
            "5\n"
          ],
          "name": "stdout"
        }
      ]
    },
    {
      "cell_type": "code",
      "metadata": {
        "id": "a8e4vgNVOr1v",
        "colab_type": "code",
        "colab": {
          "base_uri": "https://localhost:8080/",
          "height": 68
        },
        "outputId": "1a7ba728-c662-4954-ec5e-f1403f50558c"
      },
      "source": [
        "#Reading input from user\n",
        "input(\"hello\")\n",
        "input(\"enter name \")\n",
        "b=int(input(\"enter age\"))"
      ],
      "execution_count": 17,
      "outputs": [
        {
          "output_type": "stream",
          "text": [
            "helloeverybody\n",
            "enter name likki\n",
            "enter age20\n"
          ],
          "name": "stdout"
        }
      ]
    },
    {
      "cell_type": "markdown",
      "metadata": {
        "id": "aYlwKUUaQRry",
        "colab_type": "text"
      },
      "source": [
        "#operators\n",
        "* operator is symbol used to perform specific kind of operations\n",
        "* Arithmetic operator:\n",
        "* +\n",
        "* -\n",
        "* *\n",
        "* div\n",
        "* mod\n",
        "* floor\n"
      ]
    },
    {
      "cell_type": "code",
      "metadata": {
        "id": "-mJKwm8kReIv",
        "colab_type": "code",
        "colab": {
          "base_uri": "https://localhost:8080/",
          "height": 136
        },
        "outputId": "8430f70d-51b1-4854-c72e-9ea3826f745a"
      },
      "source": [
        "a=1234\n",
        "print(a+10)\n",
        "print(a-10)\n",
        "print(a*10)\n",
        "print(a/10)\n",
        "print(a%10)\n",
        "print(a//10)\n",
        "print(a**10)\n",
        "\n"
      ],
      "execution_count": 24,
      "outputs": [
        {
          "output_type": "stream",
          "text": [
            "1244\n",
            "1224\n",
            "12340\n",
            "123.4\n",
            "4\n",
            "123\n",
            "8187505353567209228244052427776\n"
          ],
          "name": "stdout"
        }
      ]
    },
    {
      "cell_type": "code",
      "metadata": {
        "id": "4B6AE4nVScQ-",
        "colab_type": "code",
        "colab": {}
      },
      "source": [
        ""
      ],
      "execution_count": 0,
      "outputs": []
    },
    {
      "cell_type": "markdown",
      "metadata": {
        "id": "6ugX716WTRuG",
        "colab_type": "text"
      },
      "source": [
        "#Relational operators\n",
        "* =\n",
        "*==\n",
        "*<\n",
        "*'>'\n",
        "*<=\n",
        "*'>='"
      ]
    },
    {
      "cell_type": "code",
      "metadata": {
        "id": "w5W2LXB-Tpqb",
        "colab_type": "code",
        "colab": {
          "base_uri": "https://localhost:8080/",
          "height": 51
        },
        "outputId": "3ba8d635-5648-45aa-99dd-d06921f02bbc"
      },
      "source": [
        "x=int(input(\"t\"))\n",
        "a1=x>15\n",
        "print(a1)"
      ],
      "execution_count": 29,
      "outputs": [
        {
          "output_type": "stream",
          "text": [
            "t20\n",
            "True\n"
          ],
          "name": "stdout"
        }
      ]
    },
    {
      "cell_type": "markdown",
      "metadata": {
        "id": "8E9MIxXoUZU7",
        "colab_type": "text"
      },
      "source": [
        "#Logical operators\n",
        "* AND\n",
        "* NOT\n",
        "* OR"
      ]
    },
    {
      "cell_type": "code",
      "metadata": {
        "id": "8eaZPgcLUg7U",
        "colab_type": "code",
        "colab": {
          "base_uri": "https://localhost:8080/",
          "height": 51
        },
        "outputId": "493cfd5f-b0f6-4de0-93ac-cc8aacf6e011"
      },
      "source": [
        "i=100\n",
        "a1=(i>15) and (i<800)\n",
        "a2=(i>15) or(i<800)\n",
        "print(a1)\n",
        "print(a2)"
      ],
      "execution_count": 31,
      "outputs": [
        {
          "output_type": "stream",
          "text": [
            "True\n",
            "True\n"
          ],
          "name": "stdout"
        }
      ]
    },
    {
      "cell_type": "markdown",
      "metadata": {
        "id": "l7DdHSIGV8F0",
        "colab_type": "text"
      },
      "source": [
        "# control flow statements\n",
        "* conditional flow stmts\n",
        "* looping statements\n"
      ]
    },
    {
      "cell_type": "markdown",
      "metadata": {
        "id": "CSrEvpuOWVHG",
        "colab_type": "text"
      },
      "source": [
        "#if-else statements\n",
        "## syntax\n",
        "## if boolean-condition:\n",
        "      statements\n",
        "##else:\n",
        "        statements"
      ]
    },
    {
      "cell_type": "code",
      "metadata": {
        "id": "ZkMil3RyXBOY",
        "colab_type": "code",
        "colab": {
          "base_uri": "https://localhost:8080/",
          "height": 51
        },
        "outputId": "1cd4d9a3-a434-4683-d01b-67b3226a62d1"
      },
      "source": [
        "# To check given is even or odd\n",
        "n=int(input(\"enter a number\"))\n",
        "if n%2==0 :\n",
        "  print(n,\"is even number\")\n",
        "else:\n",
        "  print(n,\"is odd number12\")"
      ],
      "execution_count": 33,
      "outputs": [
        {
          "output_type": "stream",
          "text": [
            "enter a number12\n",
            "12 is even number\n"
          ],
          "name": "stdout"
        }
      ]
    },
    {
      "cell_type": "code",
      "metadata": {
        "id": "y2lMFbedYOpq",
        "colab_type": "code",
        "colab": {
          "base_uri": "https://localhost:8080/",
          "height": 51
        },
        "outputId": "653df55f-7e84-4fa2-abe2-16f7848db13f"
      },
      "source": [
        "#To check given number is perfectly multiples of 3 and 5\n",
        "n=int(input(\"enter a number\"))\n",
        "if (n%3==0) and (n%5==0):\n",
        "  print(n)\n",
        "else:\n",
        "  print(\"error\")\n"
      ],
      "execution_count": 37,
      "outputs": [
        {
          "output_type": "stream",
          "text": [
            "enter a number15\n",
            "15\n"
          ],
          "name": "stdout"
        }
      ]
    },
    {
      "cell_type": "code",
      "metadata": {
        "id": "Fs7EX0_taohU",
        "colab_type": "code",
        "colab": {
          "base_uri": "https://localhost:8080/",
          "height": 51
        },
        "outputId": "0f536804-8e3e-4f37-fa86-f603e9dc792b"
      },
      "source": [
        "#check a number is positive,negative or zero\n",
        "n=int(input(\"enter a number\"))\n",
        "if n>0:\n",
        "  print(\"positive\")\n",
        "elif n==0:\n",
        "  print(\"zero\")\n",
        "else:\n",
        "  print(\"negative\")"
      ],
      "execution_count": 41,
      "outputs": [
        {
          "output_type": "stream",
          "text": [
            "enter a number-1\n",
            "negative\n"
          ],
          "name": "stdout"
        }
      ]
    },
    {
      "cell_type": "code",
      "metadata": {
        "id": "HFBOgzgoenqa",
        "colab_type": "code",
        "colab": {}
      },
      "source": [
        ""
      ],
      "execution_count": 0,
      "outputs": []
    },
    {
      "cell_type": "code",
      "metadata": {
        "id": "nuloWbw4bYzS",
        "colab_type": "code",
        "colab": {
          "base_uri": "https://localhost:8080/",
          "height": 85
        },
        "outputId": "362d5e33-239d-45aa-bef4-c4a709910da8"
      },
      "source": [
        "#Find largest among 3 numbers\n",
        "a=int(input(\"enter num\"))\n",
        "b=int(input(\"enter num\"))\n",
        "c=int(input(\"enter num\"))\n",
        "if a>=b:\n",
        "  if a>=c:\n",
        "    print(\"a is larger\")\n",
        "  else:\n",
        "    print(\"c is larger\")\n",
        "else:\n",
        "  print(\"b is larger\")"
      ],
      "execution_count": 53,
      "outputs": [
        {
          "output_type": "stream",
          "text": [
            "enter num4\n",
            "enter num4\n",
            "enter num4\n",
            "a is larger\n"
          ],
          "name": "stdout"
        }
      ]
    },
    {
      "cell_type": "code",
      "metadata": {
        "id": "RnqbFAxCepa9",
        "colab_type": "code",
        "colab": {
          "base_uri": "https://localhost:8080/",
          "height": 51
        },
        "outputId": "f65a6b65-ed0b-4fd6-8280-0edaa1c1c371"
      },
      "source": [
        "#Given year is leap or not\n",
        "n=int(input(\"enter year\"))\n",
        "if n%4==0:\n",
        "  if (n%100==0):\n",
        "    if n%400==0:\n",
        "      print(\"leap year\")\n",
        "    else:\n",
        "      print(\"not leap year\")\n",
        "  else:\n",
        "    print(\"leap year\")\n",
        "else:\n",
        "  print(\"not leap year\")"
      ],
      "execution_count": 57,
      "outputs": [
        {
          "output_type": "stream",
          "text": [
            "enter year1999\n",
            "not leap year\n"
          ],
          "name": "stdout"
        }
      ]
    }
  ]
}